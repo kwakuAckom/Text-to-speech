{
 "cells": [
  {
   "cell_type": "code",
   "execution_count": null,
   "id": "9ed23239",
   "metadata": {},
   "outputs": [],
   "source": [
    "def positional(n):\n",
    "    n = str(n)\n",
    "    if n.endswith(\"11\") or n.endswith(\"12\") or n.endswith(\"13\"):\n",
    "        return n + \"th\"\n",
    "    elif n.endswith(\"1\"):\n",
    "        return n + \"st\"\n",
    "    elif n.endswith(\"2\"):\n",
    "        return n + \"nd\"\n",
    "    elif n.endswith(\"3\"):\n",
    "        return n + \"rd\"\n",
    "    else:\n",
    "        return n + \"th\""
   ]
  },
  {
   "cell_type": "code",
   "execution_count": null,
   "id": "2e34a3c7",
   "metadata": {},
   "outputs": [],
   "source": [
    "positional(443)"
   ]
  },
  {
   "cell_type": "code",
   "execution_count": null,
   "id": "a9d30196",
   "metadata": {},
   "outputs": [],
   "source": [
    "# Reverse words\n",
    "def reverser(sen):\n",
    "    new_sen = []\n",
    "    for i in range((len(sen)-1),0,-1):\n",
    "        new_sen += sen[i]\n",
    "    return new_sen"
   ]
  },
  {
   "cell_type": "code",
   "execution_count": null,
   "id": "615f472c",
   "metadata": {},
   "outputs": [],
   "source": [
    "reverser(\"Seth Aduful\")"
   ]
  },
  {
   "cell_type": "code",
   "execution_count": null,
   "id": "a3da70cd",
   "metadata": {},
   "outputs": [],
   "source": [
    "# Reverse words\n",
    "def reverser(sen):\n",
    "    print(' '.join(reversed(sen.split(' '))))"
   ]
  },
  {
   "cell_type": "code",
   "execution_count": null,
   "id": "d49f2788",
   "metadata": {},
   "outputs": [],
   "source": [
    "reverser(\"Seth Kwaku Ackom Aduful\")"
   ]
  },
  {
   "cell_type": "code",
   "execution_count": 32,
   "id": "61aae3e0",
   "metadata": {},
   "outputs": [],
   "source": [
    "#Palindrome\n",
    "def palindrome(word):\n",
    "    word = word.lower()\n",
    "    mid = len(word)//2\n",
    "    first = word[:mid]\n",
    "    last = word[mid:]\n",
    "    first_w = []\n",
    "    last_w = []\n",
    "    pass_w = False\n",
    "    for i in first:\n",
    "        first_w.append(i)\n",
    "    for j in range(mid):\n",
    "        last_w.append(last[j])\n",
    "    last_w[0],last_w[-1] = last_w[-1], last_w[0]\n",
    "    for i in range(mid):\n",
    "        if first_w[i] == last_w[i]:\n",
    "            pass_w = True\n",
    "    print(pass_w)"
   ]
  },
  {
   "cell_type": "code",
   "execution_count": 36,
   "id": "ea24017d",
   "metadata": {},
   "outputs": [
    {
     "name": "stdout",
     "output_type": "stream",
     "text": [
      "True\n"
     ]
    }
   ],
   "source": [
    "palindrome(\"Anmmna\")"
   ]
  },
  {
   "cell_type": "code",
   "execution_count": null,
   "id": "d6c5026d",
   "metadata": {},
   "outputs": [],
   "source": []
  }
 ],
 "metadata": {
  "kernelspec": {
   "display_name": "Python 3 (ipykernel)",
   "language": "python",
   "name": "python3"
  },
  "language_info": {
   "codemirror_mode": {
    "name": "ipython",
    "version": 3
   },
   "file_extension": ".py",
   "mimetype": "text/x-python",
   "name": "python",
   "nbconvert_exporter": "python",
   "pygments_lexer": "ipython3",
   "version": "3.11.5"
  }
 },
 "nbformat": 4,
 "nbformat_minor": 5
}
